{
 "cells": [
  {
   "cell_type": "markdown",
   "metadata": {},
   "source": [
    "### Primer Programa"
   ]
  },
  {
   "cell_type": "code",
   "execution_count": 2,
   "metadata": {},
   "outputs": [
    {
     "name": "stdout",
     "output_type": "stream",
     "text": [
      "Hola Mundo\n"
     ]
    }
   ],
   "source": [
    "print(\"Hola Mundo\")"
   ]
  },
  {
   "cell_type": "markdown",
   "metadata": {},
   "source": [
    "### Variables"
   ]
  },
  {
   "cell_type": "code",
   "execution_count": 5,
   "metadata": {},
   "outputs": [
    {
     "name": "stdout",
     "output_type": "stream",
     "text": [
      "¡Hola Mundo!, desde una variable :D\n"
     ]
    }
   ],
   "source": [
    "mensaje = \"¡Hola Mundo!, desde una variable :D\"\n",
    "print(mensaje)"
   ]
  },
  {
   "cell_type": "code",
   "execution_count": 31,
   "metadata": {},
   "outputs": [
    {
     "name": "stdout",
     "output_type": "stream",
     "text": [
      "Universidad Autonoma De Chiapas\n",
      "UNIVERSIDAD AUTONOMA DE CHIAPAS\n",
      "universidad autonoma de chiapas\n"
     ]
    }
   ],
   "source": [
    "texto = \"universidad autonoma de chiapas\"\n",
    "print(texto.title())\n",
    "print(texto.upper())\n",
    "print(texto.lower())"
   ]
  },
  {
   "cell_type": "markdown",
   "metadata": {},
   "source": [
    "### Manejo de strings"
   ]
  },
  {
   "cell_type": "code",
   "execution_count": 12,
   "metadata": {},
   "outputs": [
    {
     "name": "stdout",
     "output_type": "stream",
     "text": [
      "Cesar DavidEstrada Ortega\n",
      "fgdfgdfgcesar davidestrada ortegadfgdfgdfg\n"
     ]
    }
   ],
   "source": [
    "nombres = \"Cesar David\"\n",
    "apellidos = \"Estrada Ortega\"\n",
    "nombre_completo = nombres + apellidos\n",
    "# nombre_completo = f\"{nombres} {apellidos}\"\n",
    "print(nombre_completo)\n",
    "print(f\"{nombre_completo.lower()}\")"
   ]
  },
  {
   "cell_type": "code",
   "execution_count": 13,
   "metadata": {},
   "outputs": [
    {
     "name": "stdout",
     "output_type": "stream",
     "text": [
      "\tPython\n"
     ]
    }
   ],
   "source": [
    "print(\"\\tPython\")"
   ]
  },
  {
   "cell_type": "code",
   "execution_count": 14,
   "metadata": {},
   "outputs": [
    {
     "name": "stdout",
     "output_type": "stream",
     "text": [
      "Lenguajes de programación:\n",
      "Python\n",
      "C++\n",
      "JavaScript\n"
     ]
    }
   ],
   "source": [
    "print(\"Lenguajes de programación:\\nPython\\nC++\\nJavaScript\")"
   ]
  },
  {
   "cell_type": "code",
   "execution_count": 35,
   "metadata": {},
   "outputs": [
    {
     "name": "stdout",
     "output_type": "stream",
     "text": [
      "Lenguajes de programación:\n",
      "\tPython\n",
      "\tC++\n",
      "\tJavaScript\n"
     ]
    }
   ],
   "source": [
    "print(\"Lenguajes de programación:\\n\\tPython\\n\\tC++\\n\\tJavaScript\")"
   ]
  },
  {
   "cell_type": "code",
   "execution_count": 15,
   "metadata": {},
   "outputs": [
    {
     "data": {
      "text/plain": [
       "'100'"
      ]
     },
     "execution_count": 15,
     "metadata": {},
     "output_type": "execute_result"
    }
   ],
   "source": [
    "lenguaje_favorito = 'python '\n",
    "lenguaje_favorito = lenguaje_favorito.rstrip()\n",
    "lenguaje_favorito"
   ]
  }
 ],
 "metadata": {
  "kernelspec": {
   "display_name": "Python 3",
   "language": "python",
   "name": "python3"
  },
  "language_info": {
   "codemirror_mode": {
    "name": "ipython",
    "version": 3
   },
   "file_extension": ".py",
   "mimetype": "text/x-python",
   "name": "python",
   "nbconvert_exporter": "python",
   "pygments_lexer": "ipython3",
   "version": "3.12.1"
  }
 },
 "nbformat": 4,
 "nbformat_minor": 2
}
