{
 "cells": [
  {
   "cell_type": "markdown",
   "metadata": {},
   "source": [
    "### Primer Programa"
   ]
  },
  {
   "cell_type": "code",
   "execution_count": 1,
   "metadata": {},
   "outputs": [
    {
     "name": "stdout",
     "output_type": "stream",
     "text": [
      "Hola Mundo\n"
     ]
    }
   ],
   "source": [
    "print(\"Hola Mundo\")"
   ]
  },
  {
   "cell_type": "markdown",
   "metadata": {},
   "source": [
    "### Variables"
   ]
  },
  {
   "cell_type": "code",
   "execution_count": 2,
   "metadata": {},
   "outputs": [
    {
     "name": "stdout",
     "output_type": "stream",
     "text": [
      "¡Hola Mundo!, desde una variable :D\n"
     ]
    }
   ],
   "source": [
    "mensaje = \"¡Hola Mundo!, desde una variable :D\"\n",
    "print(mensaje)"
   ]
  },
  {
   "cell_type": "code",
   "execution_count": 3,
   "metadata": {},
   "outputs": [
    {
     "name": "stdout",
     "output_type": "stream",
     "text": [
      "Universidad Autonoma De Chiapas\n",
      "UNIVERSIDAD AUTONOMA DE CHIAPAS\n",
      "universidad autonoma de chiapas\n"
     ]
    }
   ],
   "source": [
    "texto = \"universidad autonoma de chiapas\"\n",
    "print(texto.title())\n",
    "print(texto.upper())\n",
    "print(texto.lower())"
   ]
  },
  {
   "cell_type": "markdown",
   "metadata": {},
   "source": [
    "### Manejo de strings"
   ]
  },
  {
   "cell_type": "code",
   "execution_count": 4,
   "metadata": {},
   "outputs": [
    {
     "name": "stdout",
     "output_type": "stream",
     "text": [
      "Cesar DavidEstrada Ortega\n",
      "cesar davidestrada ortega\n"
     ]
    }
   ],
   "source": [
    "nombres = \"Cesar David\"\n",
    "apellidos = \"Estrada Ortega\"\n",
    "nombre_completo = nombres + apellidos\n",
    "# nombre_completo = f\"{nombres} {apellidos}\"\n",
    "print(nombre_completo)\n",
    "print(f\"{nombre_completo.lower()}\")"
   ]
  },
  {
   "cell_type": "code",
   "execution_count": 5,
   "metadata": {},
   "outputs": [
    {
     "name": "stdout",
     "output_type": "stream",
     "text": [
      "\tPython\n"
     ]
    }
   ],
   "source": [
    "print(\"\\tPython\")"
   ]
  },
  {
   "cell_type": "code",
   "execution_count": 6,
   "metadata": {},
   "outputs": [
    {
     "name": "stdout",
     "output_type": "stream",
     "text": [
      "Lenguajes de programación:\n",
      "Python\n",
      "C++\n",
      "JavaScript\n"
     ]
    }
   ],
   "source": [
    "print(\"Lenguajes de programación:\\nPython\\nC++\\nJavaScript\")"
   ]
  },
  {
   "cell_type": "code",
   "execution_count": 7,
   "metadata": {},
   "outputs": [
    {
     "name": "stdout",
     "output_type": "stream",
     "text": [
      "Lenguajes de programación:\n",
      "\tPython\n",
      "\tC++\n",
      "\tJavaScript\n"
     ]
    }
   ],
   "source": [
    "print(\"Lenguajes de programación:\\n\\tPython\\n\\tC++\\n\\tJavaScript\")"
   ]
  },
  {
   "cell_type": "code",
   "execution_count": 11,
   "metadata": {},
   "outputs": [
    {
     "data": {
      "text/plain": [
       "'python'"
      ]
     },
     "execution_count": 11,
     "metadata": {},
     "output_type": "execute_result"
    }
   ],
   "source": [
    "lenguaje_favorito = 'python '\n",
    "lenguaje_favorito = lenguaje_favorito.rstrip()\n",
    "lenguaje_favorito"
   ]
  },
  {
   "cell_type": "code",
   "execution_count": 10,
   "metadata": {},
   "outputs": [
    {
     "data": {
      "text/plain": [
       "'python'"
      ]
     },
     "execution_count": 10,
     "metadata": {},
     "output_type": "execute_result"
    }
   ],
   "source": [
    "lenguaje_favorito = ' python'\n",
    "lenguaje_favorito = lenguaje_favorito.lstrip()\n",
    "lenguaje_favorito"
   ]
  },
  {
   "cell_type": "code",
   "execution_count": 12,
   "metadata": {},
   "outputs": [
    {
     "data": {
      "text/plain": [
       "'python'"
      ]
     },
     "execution_count": 12,
     "metadata": {},
     "output_type": "execute_result"
    }
   ],
   "source": [
    "lenguaje_favorito = ' python '\n",
    "lenguaje_favorito = lenguaje_favorito.strip()\n",
    "lenguaje_favorito"
   ]
  },
  {
   "cell_type": "markdown",
   "metadata": {},
   "source": [
    "### Remover Prefijos"
   ]
  },
  {
   "cell_type": "code",
   "execution_count": 17,
   "metadata": {},
   "outputs": [
    {
     "name": "stdout",
     "output_type": "stream",
     "text": [
      "nostarch.com\n"
     ]
    }
   ],
   "source": [
    "enlace = 'https://nostarch.com'\n",
    "enlace.removeprefix('https://')"
   ]
  },
  {
   "cell_type": "code",
   "execution_count": 20,
   "metadata": {},
   "outputs": [
    {
     "name": "stdout",
     "output_type": "stream",
     "text": [
      "nostarch.com\n"
     ]
    }
   ],
   "source": [
    "enlace = 'https://nostarch.com'\n",
    "resultado = enlace.removeprefix('https://')\n",
    "print(resultado)"
   ]
  },
  {
   "cell_type": "code",
   "execution_count": null,
   "metadata": {},
   "outputs": [],
   "source": [
    "message = \"One of Python's strengths is its diverse community.\"\n",
    "print(message)"
   ]
  },
  {
   "cell_type": "markdown",
   "metadata": {},
   "source": [
    "### Números"
   ]
  },
  {
   "cell_type": "code",
   "execution_count": 42,
   "metadata": {},
   "outputs": [
    {
     "name": "stdout",
     "output_type": "stream",
     "text": [
      "5.4\n",
      "-0.6000000000000001\n",
      "7.199999999999999\n",
      "0.7999999999999999\n",
      "13.823999999999998\n",
      "13.824\n",
      "13.8240\n",
      "2.16\n"
     ]
    }
   ],
   "source": [
    "# Variables\n",
    "\n",
    "# a = 2.4\n",
    "# b = 3\n",
    "\n",
    "a, b = 2.4, 3\n",
    "\n",
    "# Operaciones\n",
    "\n",
    "suma = a + b\n",
    "resta = a - b\n",
    "multiplicacion = a * b\n",
    "division = a / b\n",
    "exponencial = a ** b # 2^3 --> 2x2x2 pow()\n",
    "extra = (a + b) * 4 / 10 # extra = ((a + b) * 4) / (10)\n",
    "\n",
    "# Resultados\n",
    "\n",
    "print(suma)\n",
    "print(resta)\n",
    "print(multiplicacion)\n",
    "print(division)\n",
    "print(exponencial)\n",
    "print(round(exponencial, 4))\n",
    "print(\"%.4f\" % exponencial)\n",
    "print(extra)\n",
    "\n",
    "#                        truncar  redondear\n",
    "# 0.379999999999999999 --> 0.37 --> 0.38"
   ]
  },
  {
   "cell_type": "code",
   "execution_count": null,
   "metadata": {},
   "outputs": [],
   "source": [
    "universe_age = 14_000_000_000\n",
    "print(universe_age)\n",
    "\n",
    "# 14.99 --> 1499"
   ]
  }
 ],
 "metadata": {
  "kernelspec": {
   "display_name": "Python 3",
   "language": "python",
   "name": "python3"
  },
  "language_info": {
   "codemirror_mode": {
    "name": "ipython",
    "version": 3
   },
   "file_extension": ".py",
   "mimetype": "text/x-python",
   "name": "python",
   "nbconvert_exporter": "python",
   "pygments_lexer": "ipython3",
   "version": "3.12.1"
  }
 },
 "nbformat": 4,
 "nbformat_minor": 2
}
