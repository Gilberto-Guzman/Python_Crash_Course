{
 "cells": [
  {
   "cell_type": "markdown",
   "metadata": {},
   "source": [
    "### Continuación de manejo de strings"
   ]
  },
  {
   "cell_type": "code",
   "execution_count": 11,
   "metadata": {},
   "outputs": [
    {
     "data": {
      "text/plain": [
       "'python'"
      ]
     },
     "execution_count": 11,
     "metadata": {},
     "output_type": "execute_result"
    }
   ],
   "source": [
    "lenguaje_favorito = 'python '\n",
    "lenguaje_favorito = lenguaje_favorito.rstrip()\n",
    "lenguaje_favorito"
   ]
  },
  {
   "cell_type": "code",
   "execution_count": 12,
   "metadata": {},
   "outputs": [
    {
     "data": {
      "text/plain": [
       "'python'"
      ]
     },
     "execution_count": 12,
     "metadata": {},
     "output_type": "execute_result"
    }
   ],
   "source": [
    "lenguaje_favorito = ' python'\n",
    "lenguaje_favorito = lenguaje_favorito.lstrip()\n",
    "lenguaje_favorito"
   ]
  },
  {
   "cell_type": "code",
   "execution_count": 2,
   "metadata": {},
   "outputs": [
    {
     "data": {
      "text/plain": [
       "'python'"
      ]
     },
     "execution_count": 2,
     "metadata": {},
     "output_type": "execute_result"
    }
   ],
   "source": [
    "lenguaje_favorito = ' python '\n",
    "lenguaje_favorito = lenguaje_favorito.strip()\n",
    "lenguaje_favorito"
   ]
  },
  {
   "cell_type": "markdown",
   "metadata": {},
   "source": [
    "### Remover Prefijos"
   ]
  },
  {
   "cell_type": "code",
   "execution_count": 14,
   "metadata": {},
   "outputs": [
    {
     "data": {
      "text/plain": [
       "'www.educa-t.unach.mx'"
      ]
     },
     "execution_count": 14,
     "metadata": {},
     "output_type": "execute_result"
    }
   ],
   "source": [
    "enlace = 'https://www.educa-t.unach.mx'\n",
    "enlace.removeprefix('https://')"
   ]
  },
  {
   "cell_type": "code",
   "execution_count": 15,
   "metadata": {},
   "outputs": [
    {
     "name": "stdout",
     "output_type": "stream",
     "text": [
      "www.educa-t.unach.mx\n"
     ]
    }
   ],
   "source": [
    "enlace = 'https://www.educa-t.unach.mx'\n",
    "resultado = enlace.removeprefix('https://')\n",
    "print(resultado)"
   ]
  },
  {
   "cell_type": "code",
   "execution_count": 16,
   "metadata": {},
   "outputs": [
    {
     "name": "stdout",
     "output_type": "stream",
     "text": [
      "What's App\n"
     ]
    }
   ],
   "source": [
    "message = \"What's App\"\n",
    "print(message)"
   ]
  },
  {
   "cell_type": "markdown",
   "metadata": {},
   "source": [
    "### Números"
   ]
  },
  {
   "cell_type": "code",
   "execution_count": 17,
   "metadata": {},
   "outputs": [
    {
     "name": "stdout",
     "output_type": "stream",
     "text": [
      "5.4\n",
      "-0.6000000000000001\n",
      "7.199999999999999\n",
      "0.7999999999999999\n",
      "13.823999999999998\n",
      "13.824\n",
      "13.8240\n",
      "2.16\n"
     ]
    }
   ],
   "source": [
    "# Variables\n",
    "\n",
    "# a = 2.4\n",
    "# b = 3\n",
    "\n",
    "a, b = 2.4, 3\n",
    "\n",
    "# Operaciones\n",
    "\n",
    "suma = a + b\n",
    "resta = a - b\n",
    "multiplicacion = a * b\n",
    "division = a / b\n",
    "exponencial = a ** b # 2^3 --> 2x2x2 pow()\n",
    "extra = (a + b) * 4 / 10 # extra = ((a + b) * 4) / (10)\n",
    "\n",
    "# Resultados\n",
    "\n",
    "print(suma)\n",
    "print(resta)\n",
    "print(multiplicacion)\n",
    "print(division)\n",
    "print(exponencial)\n",
    "print(round(exponencial, 4))\n",
    "print(\"%.4f\" % exponencial)\n",
    "print(extra)\n",
    "\n",
    "#                        truncar  redondear\n",
    "# 0.379999999999999999 --> 0.37 --> 0.38"
   ]
  },
  {
   "cell_type": "code",
   "execution_count": 18,
   "metadata": {},
   "outputs": [
    {
     "name": "stdout",
     "output_type": "stream",
     "text": [
      "14000000000\n"
     ]
    }
   ],
   "source": [
    "universe_age = 14_000_000_000\n",
    "print(universe_age)\n",
    "\n",
    "# 14.99 --> 1499"
   ]
  },
  {
   "cell_type": "code",
   "execution_count": null,
   "metadata": {},
   "outputs": [],
   "source": []
  }
 ],
 "metadata": {
  "kernelspec": {
   "display_name": "Python 3",
   "language": "python",
   "name": "python3"
  },
  "language_info": {
   "codemirror_mode": {
    "name": "ipython",
    "version": 3
   },
   "file_extension": ".py",
   "mimetype": "text/x-python",
   "name": "python",
   "nbconvert_exporter": "python",
   "pygments_lexer": "ipython3",
   "version": "3.12.1"
  }
 },
 "nbformat": 4,
 "nbformat_minor": 2
}
